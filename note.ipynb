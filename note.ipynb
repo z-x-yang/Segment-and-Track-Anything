{
 "cells": [
  {
   "cell_type": "code",
   "execution_count": 1,
   "metadata": {},
   "outputs": [
    {
     "name": "stderr",
     "output_type": "stream",
     "text": [
      "OpenCV: Couldn't read video stream from file \"/Users/raiso/B3D71-frontview-21-40/4-h264-c15/.DS_Store\"\n",
      "[ERROR:0@22.393] global cap.cpp:166 open VIDEOIO(CV_IMAGES): raised OpenCV exception:\n",
      "\n",
      "OpenCV(4.8.0) /Users/xperience/GHA-OpenCV-Python/_work/opencv-python/opencv-python/opencv/modules/videoio/src/cap_images.cpp:253: error: (-5:Bad argument) CAP_IMAGES: can't find starting number (in the name of file): /Users/raiso/B3D71-frontview-21-40/4-h264-c15/.DS_Store in function 'icvExtractPattern'\n",
      "\n",
      "\n",
      "OpenCV: Couldn't read video stream from file \"/Users/raiso/B3D71-frontview-21-40/4-h264-c15/.DS_Store\"\n",
      "[ERROR:0@22.397] global cap.cpp:166 open VIDEOIO(CV_IMAGES): raised OpenCV exception:\n",
      "\n",
      "OpenCV(4.8.0) /Users/xperience/GHA-OpenCV-Python/_work/opencv-python/opencv-python/opencv/modules/videoio/src/cap_images.cpp:253: error: (-5:Bad argument) CAP_IMAGES: can't find starting number (in the name of file): /Users/raiso/B3D71-frontview-21-40/4-h264-c15/.DS_Store in function 'icvExtractPattern'\n",
      "\n",
      "\n",
      "OpenCV: Couldn't read video stream from file \"/Users/raiso/B3D71-frontview-21-40/4-h264-c15/.DS_Store\"\n",
      "[ERROR:0@22.398] global cap.cpp:166 open VIDEOIO(CV_IMAGES): raised OpenCV exception:\n",
      "\n",
      "OpenCV(4.8.0) /Users/xperience/GHA-OpenCV-Python/_work/opencv-python/opencv-python/opencv/modules/videoio/src/cap_images.cpp:253: error: (-5:Bad argument) CAP_IMAGES: can't find starting number (in the name of file): /Users/raiso/B3D71-frontview-21-40/4-h264-c15/.DS_Store in function 'icvExtractPattern'\n",
      "\n",
      "\n",
      "OpenCV: Couldn't read video stream from file \"/Users/raiso/B3D71-frontview-21-40/4-h264-c15/.DS_Store\"\n",
      "[ERROR:0@22.400] global cap.cpp:166 open VIDEOIO(CV_IMAGES): raised OpenCV exception:\n",
      "\n",
      "OpenCV(4.8.0) /Users/xperience/GHA-OpenCV-Python/_work/opencv-python/opencv-python/opencv/modules/videoio/src/cap_images.cpp:253: error: (-5:Bad argument) CAP_IMAGES: can't find starting number (in the name of file): /Users/raiso/B3D71-frontview-21-40/4-h264-c15/.DS_Store in function 'icvExtractPattern'\n",
      "\n",
      "\n"
     ]
    },
    {
     "ename": "KeyboardInterrupt",
     "evalue": "",
     "output_type": "error",
     "traceback": [
      "\u001b[0;31m---------------------------------------------------------------------------\u001b[0m",
      "\u001b[0;31mKeyboardInterrupt\u001b[0m                         Traceback (most recent call last)",
      "Cell \u001b[0;32mIn[1], line 45\u001b[0m\n\u001b[1;32m     42\u001b[0m             extract_subvideo(video_path, start_frame, end_frame, output_path)\n\u001b[1;32m     44\u001b[0m \u001b[39mif\u001b[39;00m \u001b[39m__name__\u001b[39m \u001b[39m==\u001b[39m \u001b[39m\"\u001b[39m\u001b[39m__main__\u001b[39m\u001b[39m\"\u001b[39m:\n\u001b[0;32m---> 45\u001b[0m     main()\n",
      "Cell \u001b[0;32mIn[1], line 42\u001b[0m, in \u001b[0;36mmain\u001b[0;34m()\u001b[0m\n\u001b[1;32m     40\u001b[0m output_video_name \u001b[39m=\u001b[39m \u001b[39mf\u001b[39m\u001b[39m\"\u001b[39m\u001b[39m{\u001b[39;00mos\u001b[39m.\u001b[39mpath\u001b[39m.\u001b[39msplitext(video_file)[\u001b[39m0\u001b[39m]\u001b[39m}\u001b[39;00m\u001b[39m_frames_\u001b[39m\u001b[39m{\u001b[39;00mstart_frame\u001b[39m}\u001b[39;00m\u001b[39m_\u001b[39m\u001b[39m{\u001b[39;00mend_frame\u001b[39m}\u001b[39;00m\u001b[39m.avi\u001b[39m\u001b[39m\"\u001b[39m\n\u001b[1;32m     41\u001b[0m output_path \u001b[39m=\u001b[39m os\u001b[39m.\u001b[39mpath\u001b[39m.\u001b[39mjoin(output_folder, output_video_name)\n\u001b[0;32m---> 42\u001b[0m extract_subvideo(video_path, start_frame, end_frame, output_path)\n",
      "Cell \u001b[0;32mIn[1], line 19\u001b[0m, in \u001b[0;36mextract_subvideo\u001b[0;34m(video_path, start_frame, end_frame, output_path)\u001b[0m\n\u001b[1;32m     17\u001b[0m ret, frame \u001b[39m=\u001b[39m cap\u001b[39m.\u001b[39mread()\n\u001b[1;32m     18\u001b[0m \u001b[39mif\u001b[39;00m ret:\n\u001b[0;32m---> 19\u001b[0m     out\u001b[39m.\u001b[39;49mwrite(frame)\n\u001b[1;32m     20\u001b[0m     current_frame \u001b[39m+\u001b[39m\u001b[39m=\u001b[39m \u001b[39m1\u001b[39m\n\u001b[1;32m     21\u001b[0m \u001b[39melse\u001b[39;00m:\n",
      "\u001b[0;31mKeyboardInterrupt\u001b[0m: "
     ]
    }
   ],
   "source": [
    "import cv2\n",
    "import os\n",
    "\n",
    "def extract_subvideo(video_path, start_frame, end_frame, output_path):\n",
    "    cap = cv2.VideoCapture(video_path)\n",
    "    fourcc = cv2.VideoWriter_fourcc(*'FFV1')\n",
    "    fps = int(80)\n",
    "    width = int(cap.get(cv2.CAP_PROP_FRAME_WIDTH))\n",
    "    height = int(cap.get(cv2.CAP_PROP_FRAME_HEIGHT))\n",
    "\n",
    "    out = cv2.VideoWriter(output_path, fourcc, fps, (width, height))\n",
    "\n",
    "    cap.set(cv2.CAP_PROP_POS_FRAMES, start_frame)\n",
    "    current_frame = start_frame\n",
    "\n",
    "    while cap.isOpened() and current_frame <= end_frame:\n",
    "        ret, frame = cap.read()\n",
    "        if ret:\n",
    "            out.write(frame)\n",
    "            current_frame += 1\n",
    "        else:\n",
    "            break\n",
    "\n",
    "    cap.release()\n",
    "    out.release()\n",
    "\n",
    "def main():\n",
    "    input_folder = '/Users/raiso/B3D71-frontview-21-40/4-h264-c15/'   # 您的原始視頻資料夾\n",
    "    output_folder = '/Users/raiso/B3D71-frontview-21-40/5-h264-c15'  # 您希望存放輸出視頻的資料夾\n",
    "\n",
    "    if not os.path.exists(output_folder):\n",
    "        os.makedirs(output_folder)\n",
    "\n",
    "    ranges = [(400, 1200), (2800, 3600), (5200, 6000), (7600, 8400)]\n",
    "\n",
    "    for video_file in os.listdir(input_folder):\n",
    "        if video_file.split('.')[-1] != 'mp4':\n",
    "            continue\n",
    "        video_path = os.path.join(input_folder, video_file)\n",
    "\n",
    "        for start_frame, end_frame in ranges:\n",
    "            output_video_name = f\"{os.path.splitext(video_file)[0]}_frames_{start_frame}_{end_frame}.avi\"\n",
    "            output_path = os.path.join(output_folder, output_video_name)\n",
    "            extract_subvideo(video_path, start_frame, end_frame, output_path)\n",
    "\n",
    "if __name__ == \"__main__\":\n",
    "    main()\n"
   ]
  }
 ],
 "metadata": {
  "kernelspec": {
   "display_name": ".venv",
   "language": "python",
   "name": "python3"
  },
  "language_info": {
   "codemirror_mode": {
    "name": "ipython",
    "version": 3
   },
   "file_extension": ".py",
   "mimetype": "text/x-python",
   "name": "python",
   "nbconvert_exporter": "python",
   "pygments_lexer": "ipython3",
   "version": "3.11.4"
  },
  "orig_nbformat": 4
 },
 "nbformat": 4,
 "nbformat_minor": 2
}

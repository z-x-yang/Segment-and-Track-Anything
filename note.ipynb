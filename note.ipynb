{
 "cells": [
  {
   "cell_type": "code",
   "execution_count": 2,
   "metadata": {},
   "outputs": [
    {
     "name": "stdout",
     "output_type": "stream",
     "text": [
      "Darwin\n"
     ]
    }
   ],
   "source": [
    "import platform\n",
    " \n",
    "print(platform.uname().system)"
   ]
  },
  {
   "cell_type": "code",
   "execution_count": 2,
   "metadata": {},
   "outputs": [],
   "source": [
    "import cv2\n",
    "import os\n",
    "\n",
    "def extract_subvideo(video_path, start_frame, end_frame, output_path):\n",
    "    cap = cv2.VideoCapture(video_path)\n",
    "    fourcc = cv2.VideoWriter_fourcc(*'FFV1')\n",
    "    fps = int(80)\n",
    "    width = int(cap.get(cv2.CAP_PROP_FRAME_WIDTH))\n",
    "    height = int(cap.get(cv2.CAP_PROP_FRAME_HEIGHT))\n",
    "\n",
    "    out = cv2.VideoWriter(output_path, fourcc, fps, (width, height))\n",
    "\n",
    "    cap.set(cv2.CAP_PROP_POS_FRAMES, start_frame)\n",
    "    current_frame = start_frame\n",
    "\n",
    "    while cap.isOpened() and current_frame <= end_frame:\n",
    "        ret, frame = cap.read()\n",
    "        if ret:\n",
    "            out.write(frame)\n",
    "            current_frame += 1\n",
    "        else:\n",
    "            break\n",
    "\n",
    "    cap.release()\n",
    "    out.release()\n",
    "\n",
    "def main():\n",
    "    input_folder = '/Users/raiso/B3D71-frontview-21-40/4-h264-c15/'   # 您的原始視頻資料夾\n",
    "    output_folder = '/Users/raiso/B3D71-frontview-21-40/5-h264-c15'  # 您希望存放輸出視頻的資料夾\n",
    "\n",
    "    if not os.path.exists(output_folder):\n",
    "        os.makedirs(output_folder)\n",
    "\n",
    "    ranges = [(400, 1200), (2800, 3600), (5200, 6000), (7600, 8400)]\n",
    "\n",
    "    for video_file in os.listdir(input_folder):\n",
    "        if video_file.split('.')[-1] != 'mp4':\n",
    "            continue\n",
    "        video_path = os.path.join(input_folder, video_file)\n",
    "\n",
    "        for start_frame, end_frame in ranges:\n",
    "            output_video_name = f\"{os.path.splitext(video_file)[0]}_frames_{start_frame}_{end_frame}.avi\"\n",
    "            output_path = os.path.join(output_folder, output_video_name)\n",
    "            extract_subvideo(video_path, start_frame, end_frame, output_path)\n",
    "\n",
    "if __name__ == \"__main__\":\n",
    "    main()\n"
   ]
  }
 ],
 "metadata": {
  "kernelspec": {
   "display_name": ".venv",
   "language": "python",
   "name": "python3"
  },
  "language_info": {
   "codemirror_mode": {
    "name": "ipython",
    "version": 3
   },
   "file_extension": ".py",
   "mimetype": "text/x-python",
   "name": "python",
   "nbconvert_exporter": "python",
   "pygments_lexer": "ipython3",
   "version": "3.11.4"
  },
  "orig_nbformat": 4
 },
 "nbformat": 4,
 "nbformat_minor": 2
}
